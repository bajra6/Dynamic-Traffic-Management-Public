{
 "cells": [
  {
   "cell_type": "code",
   "execution_count": 5,
   "metadata": {},
   "outputs": [],
   "source": [
    "import cv2\n",
    "import numpy as np\n",
    "cap = cv2.VideoCapture(\"highway.mp4\")"
   ]
  },
  {
   "cell_type": "code",
   "execution_count": 6,
   "metadata": {},
   "outputs": [],
   "source": [
    "prev = np.empty([0,0,0])\n",
    "while True:\n",
    "    ret, origFrame = cap.read()\n",
    "    frame = cv2.cvtColor(origFrame, cv2.COLOR_BGR2GRAY)\n",
    "    roi = frame[200: 620, 500: 1000]\n",
    "    if prev.shape!=(0, 0, 0): \n",
    "        diff = cv2.absdiff(prev, roi)\n",
    "        ret, thresh = cv2.threshold(diff, 75, 255, cv2.THRESH_BINARY)\n",
    "        kernel = np.ones((5,5),np.uint8)\n",
    "        dilated = cv2.dilate(thresh,kernel,iterations = 1)\n",
    "        blurred = cv2.blur(dilated, (5, 5))\n",
    "        contours, hierarchy = cv2.findContours(blurred.copy(),cv2.RETR_TREE,cv2.CHAIN_APPROX_SIMPLE)\n",
    "\n",
    "        contours = [contour for contour in contours if cv2.contourArea(contour)>100]\n",
    "        contoursLen = str(len(contours))\n",
    "\n",
    "        for contour in contours:\n",
    "                x, y, w, h = cv2.boundingRect(contour)\n",
    "                cv2.rectangle(origFrame, (x+500, y+200), (x+w+500, y+h+200), (0, 255, 0), 2)\n",
    "                cv2.putText(origFrame, contoursLen, (1200, 700), cv2.FONT_HERSHEY_SIMPLEX, 1, (0, 255, 0), 2, cv2.LINE_AA)\n",
    "    cv2.imshow(\"Frame\", origFrame)\n",
    "    prev = frame[200: 620, 500: 1000]\n",
    "\n",
    "    key = cv2.waitKey(30)\n",
    " \n",
    "    if key == 27:\n",
    "        break\n",
    "\n",
    "cap.release()\n",
    "cv2.destroyAllWindows()"
   ]
  },
  {
   "cell_type": "code",
   "execution_count": null,
   "metadata": {},
   "outputs": [],
   "source": []
  }
 ],
 "metadata": {
  "interpreter": {
   "hash": "2603bb851130afb14426b7cd53b4ae971a6148e1f100656e75380e1380fd4f20"
  },
  "kernelspec": {
   "display_name": "Python 3.9.6 64-bit",
   "language": "python",
   "name": "python3"
  },
  "language_info": {
   "codemirror_mode": {
    "name": "ipython",
    "version": 3
   },
   "file_extension": ".py",
   "mimetype": "text/x-python",
   "name": "python",
   "nbconvert_exporter": "python",
   "pygments_lexer": "ipython3",
   "version": "3.9.6"
  },
  "orig_nbformat": 4
 },
 "nbformat": 4,
 "nbformat_minor": 2
}
